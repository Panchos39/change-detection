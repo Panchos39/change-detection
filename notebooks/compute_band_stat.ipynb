{
 "cells": [
  {
   "cell_type": "code",
   "execution_count": 2,
   "metadata": {},
   "outputs": [],
   "source": [
    "import rasterio\n",
    "import numpy as np\n",
    "import os\n",
    "import glob"
   ]
  },
  {
   "cell_type": "code",
   "execution_count": 5,
   "metadata": {},
   "outputs": [],
   "source": [
    "data_dir = '../data/onera/images/'\n",
    "cities = os.listdir(data_dir)"
   ]
  },
  {
   "cell_type": "code",
   "execution_count": 6,
   "metadata": {},
   "outputs": [],
   "source": [
    "band_ids = ['B01', 'B02', 'B03', 'B04', 'B05', 'B06', 'B07', 'B08', 'B8A', 'B09', 'B10', 'B11', 'B12']\n",
    "\n",
    "band_mins = [100000 for x in range(13)]\n",
    "band_maxs = [-1 for x in range(13)]\n",
    "band_means = []\n",
    "\n",
    "band_pixels = [[] for x in range(13)]\n",
    "for city in cities:\n",
    "    if '.txt' not in city:\n",
    "        band_path = glob.glob(data_dir + city + '/imgs_1/*')[0][:-7]     \n",
    "        b_means = []\n",
    "        for i in range(len(band_ids)):\n",
    "            band = rasterio.open(band_path + band_ids[i] + '.tif').read()[0]\n",
    "            band_mins[i] = min(band_mins[i], band.min())\n",
    "            band_maxs[i] = max(band_maxs[i], band.max())\n",
    "            b_means.append(band.mean())\n",
    "            band_pixels[i] += list(band.flatten())\n",
    "        band_means.append(b_means)\n",
    "    \n",
    "        band_path = glob.glob(data_dir + city + '/imgs_2/*')[0][:-7]\n",
    "        b_means = []\n",
    "        for i in range(len(band_ids)):\n",
    "            band = rasterio.open(band_path + band_ids[i] + '.tif').read()[0]\n",
    "            band_mins[i] = min(band_mins[i], band.min())\n",
    "            band_maxs[i] = max(band_maxs[i], band.max())\n",
    "            b_means.append(band.mean())\n",
    "            band_pixels[i] += list(band.flatten())\n",
    "        band_means.append(b_means)"
   ]
  },
  {
   "cell_type": "code",
   "execution_count": 7,
   "metadata": {},
   "outputs": [
    {
     "name": "stdout",
     "output_type": "stream",
     "text": [
      "[975, 1, 1, 1, 1, 0, 0, 1, 0, 1, 1, 54, 1]\n"
     ]
    }
   ],
   "source": [
    "print (band_mins)"
   ]
  },
  {
   "cell_type": "code",
   "execution_count": 8,
   "metadata": {},
   "outputs": [
    {
     "name": "stdout",
     "output_type": "stream",
     "text": [
      "[5220, 28000, 28000, 28000, 28000, 28002, 28001, 28000, 28003, 5715, 228, 28000, 28000]\n"
     ]
    }
   ],
   "source": [
    "print (band_maxs)"
   ]
  },
  {
   "cell_type": "code",
   "execution_count": 9,
   "metadata": {},
   "outputs": [
    {
     "data": {
      "text/plain": [
       "array([1582.73931041, 1374.3113285 , 1294.14485427, 1325.58355998,\n",
       "       1478.59071116, 1933.08975039, 2166.11443324, 2076.48933461,\n",
       "       2306.17261397,  691.28539146,   16.23574467, 2080.28367568,\n",
       "       1524.54767586])"
      ]
     },
     "execution_count": 9,
     "metadata": {},
     "output_type": "execute_result"
    }
   ],
   "source": [
    "np.mean(band_means, axis=0)"
   ]
  },
  {
   "cell_type": "code",
   "execution_count": 10,
   "metadata": {},
   "outputs": [],
   "source": [
    "band_means = {}\n",
    "band_stds = {}\n",
    "for i in range(13):\n",
    "    band_means[band_ids[i]] = np.mean(band_pixels[i])\n",
    "    band_stds[band_ids[i]] = np.std(band_pixels[i])"
   ]
  },
  {
   "cell_type": "code",
   "execution_count": 11,
   "metadata": {},
   "outputs": [
    {
     "data": {
      "text/plain": [
       "{'B01': 1617.5661643050978,\n",
       " 'B02': 1422.3719453248793,\n",
       " 'B03': 1359.3729378266555,\n",
       " 'B04': 1414.6782051630655,\n",
       " 'B05': 1557.9375814996074,\n",
       " 'B06': 1986.2235117016169,\n",
       " 'B07': 2210.5037144727444,\n",
       " 'B08': 2118.5600261598356,\n",
       " 'B8A': 2344.792035851585,\n",
       " 'B09': 711.8390602552184,\n",
       " 'B10': 15.75398180230429,\n",
       " 'B11': 2133.9020389587163,\n",
       " 'B12': 1584.2672746823432}"
      ]
     },
     "execution_count": 11,
     "metadata": {},
     "output_type": "execute_result"
    }
   ],
   "source": [
    "band_means"
   ]
  },
  {
   "cell_type": "code",
   "execution_count": 12,
   "metadata": {},
   "outputs": [
    {
     "data": {
      "text/plain": [
       "{'B01': 319.1189524513573,\n",
       " 'B02': 456.24958899714295,\n",
       " 'B03': 590.1302714532054,\n",
       " 'B04': 849.3670939543641,\n",
       " 'B05': 811.3123442393698,\n",
       " 'B06': 813.5467354658863,\n",
       " 'B07': 891.8468891460989,\n",
       " 'B08': 901.6146684047069,\n",
       " 'B8A': 954.76957663022,\n",
       " 'B09': 370.9532147970436,\n",
       " 'B10': 9.231173617884611,\n",
       " 'B11': 1116.592379523748,\n",
       " 'B12': 985.122622179024}"
      ]
     },
     "execution_count": 12,
     "metadata": {},
     "output_type": "execute_result"
    }
   ],
   "source": [
    "band_stds"
   ]
  },
  {
   "cell_type": "code",
   "execution_count": null,
   "metadata": {},
   "outputs": [],
   "source": []
  }
 ],
 "metadata": {
  "kernelspec": {
   "display_name": "Python 3",
   "language": "python",
   "name": "python3"
  },
  "language_info": {
   "codemirror_mode": {
    "name": "ipython",
    "version": 3
   },
   "file_extension": ".py",
   "mimetype": "text/x-python",
   "name": "python",
   "nbconvert_exporter": "python",
   "pygments_lexer": "ipython3",
   "version": "3.6.9"
  }
 },
 "nbformat": 4,
 "nbformat_minor": 4
}
